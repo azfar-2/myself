import os
import smtplib
import ssl
from email.mime.multipart import MIMEMultipart
from email.mime.text import MIMEText
from email.mime.application import MIMEApplication
from dotenv import load_dotenv

load_dotenv()

def send_email(recipient_email, recipient_name, pdf_filename):
    # Email configuration
    sender_email = os.getenv("SENDER_EMAIL")
    sender_password = os.getenv("SENDER_EMAIL_PASSWORD")
    smtp_server = "smtpout.secureserver.net"
    smtp_port = 587

    context = ssl.create_default_context()
    msg = MIMEMultipart()
    msg['From'] = f"HelpOps Hub <{sender_email}>"
    msg['To'] = recipient_email
    msg['Subject'] = f"🎉 Congratulations {recipient_name}! Your Internship Offer"

    # HTML Email Template
    body = f"""
    <!DOCTYPE html>
    <html>
    <head>
        <meta charset="UTF-8">
        <style>
            @import url('https://fonts.googleapis.com/css2?family=Poppins:wght@300;400;600;700&display=swap');
            body {{
                font-family: 'Poppins', sans-serif;
                background-color: #f7f9fc;
                color: #333;
                line-height: 1.6;
                margin: 0;
                padding: 0;
            }}
            .container {{
                max-width: 600px;
                margin: 0 auto;
                background: white;
                border-radius: 12px;
                overflow: hidden;
                box-shadow: 0 5px 15px rgba(0,0,0,0.05);
            }}
            .header {{
                background: linear-gradient(135deg, #6e8efb, #a777e3);
                color: white;
                padding: 40px 20px;
                text-align: center;
            }}
            .header h1 {{
                margin: 0;
                font-size: 28px;
                font-weight: 700;
            }}
            .badge {{
                background: #ffd700;
                color: #333;
                display: inline-block;
                padding: 5px 15px;
                border-radius: 20px;
                font-weight: 600;
                margin-top: 15px;
                font-size: 14px;
                animation: pulse 2s infinite;
            }}
            @keyframes pulse {{
                0% {{ transform: scale(1); }}
                50% {{ transform: scale(1.05); }}
                100% {{ transform: scale(1); }}
            }}
            .content {{
                padding: 30px;
            }}
            .verify-section {{
                background: #f0f7ff;
                border-radius: 10px;
                padding: 25px;
                margin: 25px 0;
                text-align: center;
            }}
            .verify-button {{
                background: #6e8efb;
                color: white !important;
                padding: 12px 30px;
                border-radius: 6px;
                font-weight: 600;
                text-decoration: none;
                display: inline-block;
                margin: 15px 0;
                transition: all 0.3s;
            }}
            .verify-button:hover {{
                background: #5a7de0;
                transform: translateY(-2px);
            }}
            .whatsapp-button {{
                background: #25D366;
                color: white !important;
                padding: 12px 30px;
                border-radius: 6px;
                font-weight: 600;
                text-decoration: none;
                display: inline-block;
                margin: 15px 0;
                box-shadow: 0 2px 5px rgba(37,211,102,0.3);
                transition: all 0.3s;
            }}
            .whatsapp-button:hover {{
                background: #128C7E;
                transform: translateY(-2px);
            }}
            .help-section {{
                background: #fff8e6;
                border-left: 4px solid #ffc107;
                padding: 15px;
                margin: 25px 0;
            }}
            .footer {{
                background: #f1f3f9;
                padding: 20px;
                text-align: center;
                font-size: 12px;
                color: #666;
            }}
            .download-notice {{
                font-weight: bold;
                margin: 20px 0;
                text-align: center;
            }}
        </style>
    </head>
    <body>
        <div class="container">
            <div class="header">
                <h1>Welcome to HelpOps Hub, {recipient_name}!</h1>
                <div class="badge">Full Stack Developer Intern</div>
            </div>

            <div class="content">
                <p>Dear <strong>{recipient_name}</strong>,</p>
                
                <p>We were <strong>thoroughly impressed</strong> by your technical skills and problem-solving approach during the interview process. After careful consideration, we're delighted to offer you the <strong>Full Stack Developer Internship</strong> at HelpOps Hub!</p>


                <!-- Download Notice -->
                <div class="download-notice">
                    <strong>You can download your Offer Letter at the bottom of this email.</strong>
                </div>

                <!-- VERIFY OFFER SECTION -->
                <div class="verify-section">
                    <h3>📜 Verify Your Offer Letter</h3>
                    <p>For your convenience, you can verify your offer letter online:</p>
                    <a href="https://verify.helpopshub.com" class="verify-button">Verify Offer Letter</a>
                    <p style="color: #666; font-size: 14px;">Simply enter the Certificate ID mentioned in your document.</p>
                </div>

                <!-- WHATSAPP GROUP SECTION -->
                <div style="text-align: center; margin: 30px 0;">
                    <h3>🚀 Join the Exclusive SD Intern Group</h3>
                    <p>We've created a WhatsApp group named <strong>SD Intern</strong>, exclusively for selected candidates (8-10 members only).</p>
                    <a href="https://chat.whatsapp.com/YOUR_GROUP_LINK" class="whatsapp-button">Join SD Intern Group</a>
                    <p><small>Our team will approve your request shortly</small></p>
                </div>

                <!-- HELP SECTION -->
                <div class="help-section">
                    <h3>📩 Need Help?</h3>
                    <p>Contact us at <a href="mailto:interns@helpopshub.com">interns@helpopshub.com</a>. We're excited to build amazing things together!</p>
                </div>
            </div>

            <div class="footer">
                <p>HelpOps Hub Technologies</p>
                <p><small>Confidential Offer Letter</small></p>
            </div>
        </div>
    </body>
    </html>
    """

    msg.attach(MIMEText(body, 'html'))

    # Attach PDF (will appear as downloadable attachment in email)
    try:
        with open(pdf_filename, "rb") as f:
            attach = MIMEApplication(f.read(), _subtype="pdf")
            attach.add_header('Content-Disposition', 'attachment', filename=f"HelpOpsHub_Offer_{recipient_name.replace(' ', '_')}.pdf")
            msg.attach(attach)
    except FileNotFoundError:
        print(f"Error: PDF file '{pdf_filename}' not found!")
        return False

    # Send email
    try:
        with smtplib.SMTP(smtp_server, smtp_port) as server:
            server.ehlo()
            server.starttls(context=context)
            server.login(sender_email, sender_password)
            server.sendmail(sender_email, recipient_email, msg.as_string())
        print("✓ Email sent successfully!")
        return True
    except Exception as e:
        print(f"Error sending email: {e}")
        return False

if __name__ == "__main__":
    # ===== CONFIGURATION =====
    recipient_email = "sarsaar5565@gmail.com"  # Replace
    recipient_name = "Raviranjan"             # Replace
    pdf_filename = "Raviranjan.pdf"         # Replace
    # =========================

    send_email(recipient_email, recipient_name, pdf_filename)
